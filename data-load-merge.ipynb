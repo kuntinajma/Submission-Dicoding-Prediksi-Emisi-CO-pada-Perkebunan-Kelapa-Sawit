{
 "cells": [
  {
   "cell_type": "markdown",
   "id": "d078c688",
   "metadata": {},
   "source": [
    "## Import Library\n",
    "Kita mulai dengan mengimpor semua library yang diperlukan untuk memproses dan menggabungkan data:\n",
    "- `os` & `glob`: untuk membaca file dari folder\n",
    "- `pandas` & `numpy`: untuk manipulasi data\n",
    "- `statistics.mode`: untuk menghitung modus (nilai paling sering muncul)"
   ]
  },
  {
   "cell_type": "code",
   "execution_count": 12,
   "id": "4a131cd7",
   "metadata": {},
   "outputs": [],
   "source": [
    "# Import library yang dibutuhkan\n",
    "import os\n",
    "import pandas as pd\n",
    "import numpy as np\n",
    "import glob\n",
    "from statistics import mode"
   ]
  },
  {
   "cell_type": "markdown",
   "id": "d4528d25",
   "metadata": {},
   "source": [
    "## Menggabungkan Semua File CO2\n",
    "Semua file CSV dalam folder `dataset/data-raw/co2` akan digabung menjadi satu dataframe. Kemudian kita hanya ambil kolom `timestamp` dan `co2`, serta pastikan kedua kolom memiliki format data yang benar."
   ]
  },
  {
   "cell_type": "code",
   "execution_count": 13,
   "id": "c3923d77",
   "metadata": {},
   "outputs": [],
   "source": [
    "# Tentukan path ke folder data CO2\n",
    "folder_path_co2 = 'dataset/data-raw/co2'\n",
    "all_csv_files = glob.glob(os.path.join(folder_path_co2, \"*.csv\"))\n",
    "\n",
    "# Gabungkan semua file CSV\n",
    "df_co2 = pd.concat([pd.read_csv(f) for f in all_csv_files], ignore_index=True)\n",
    "df_co2 = df_co2[['timestamp', 'co2']]\n",
    "\n",
    "# Konversi tipe data\n",
    "df_co2['timestamp'] = pd.to_datetime(df_co2['timestamp'], errors='coerce')\n",
    "df_co2['co2'] = pd.to_numeric(df_co2['co2'], errors='coerce')"
   ]
  },
  {
   "cell_type": "markdown",
   "id": "4ff3db30",
   "metadata": {},
   "source": [
    "## Sampling Data CO2 Per Menit\n",
    "Data CO2 yang awalnya tercatat beberapa kali per menit akan diubah menjadi satu titik data per menit. Nilai yang dipilih adalah **modus**, yaitu nilai yang paling sering muncul setiap menitnya."
   ]
  },
  {
   "cell_type": "code",
   "execution_count": 14,
   "id": "dff61d6c",
   "metadata": {},
   "outputs": [],
   "source": [
    "# Bulatkan waktu ke menit terdekat\n",
    "df_co2['minute'] = df_co2['timestamp'].dt.floor('min')\n",
    "\n",
    "# Sampling modus CO2 per menit\n",
    "minute_co2 = df_co2.groupby('minute')['co2'].agg(\n",
    "    lambda x: x.mode().iloc[0] if not x.mode().empty else np.nan\n",
    ").reset_index()\n",
    "\n",
    "# Lengkapi semua menit agar tidak ada yang hilang\n",
    "full_minutes = pd.date_range(\n",
    "    start=df_co2['minute'].min().floor('D'),\n",
    "    end=df_co2['minute'].max().ceil('D') - pd.Timedelta(minutes=1),\n",
    "    freq='1min'\n",
    ")\n",
    "full_minutes_df = pd.DataFrame({'minute': full_minutes})\n",
    "co2_sampled = full_minutes_df.merge(minute_co2, on='minute', how='left')"
   ]
  },
  {
   "cell_type": "markdown",
   "id": "fd154bc8",
   "metadata": {},
   "source": [
    "## Menyimpan Data CO2 yang Telah Disampling\n",
    "Dataset hasil sampling disimpan di folder `dataset/data-clean/` dengan nama `co2_per_minute.csv`."
   ]
  },
  {
   "cell_type": "code",
   "execution_count": 15,
   "id": "3333e3e1",
   "metadata": {},
   "outputs": [
    {
     "name": "stdout",
     "output_type": "stream",
     "text": [
      "CO2 per menit disimpan di: dataset/data-clean/co2_per_minute.csv\n"
     ]
    }
   ],
   "source": [
    "# Simpan hasil sampling CO2\n",
    "output_co2_path = 'dataset/data-clean/co2_per_minute.csv'\n",
    "co2_sampled.to_csv(output_co2_path, index=False)\n",
    "print(f\"CO2 per menit disimpan di: {output_co2_path}\")"
   ]
  },
  {
   "cell_type": "markdown",
   "id": "36ba3457",
   "metadata": {},
   "source": [
    "## Menggabungkan dan Membersihkan Data Cuaca\n",
    "Semua file cuaca digabung dan kolom yang tidak relevan seperti `direction`, `angle`, dan `wind_speed` dihapus. Lalu kolom `timestamp` dikonversi menjadi format datetime."
   ]
  },
  {
   "cell_type": "code",
   "execution_count": 16,
   "id": "b5b3b167",
   "metadata": {},
   "outputs": [],
   "source": [
    "folder_path_weather = 'dataset/data-raw/cuaca'\n",
    "file_list_weather = sorted(os.listdir(folder_path_weather))\n",
    "\n",
    "df_list_weather = []\n",
    "for file in file_list_weather:\n",
    "    if file.endswith('.csv'):\n",
    "        df = pd.read_csv(os.path.join(folder_path_weather, file))\n",
    "        df_list_weather.append(df)\n",
    "\n",
    "df_weather = pd.concat(df_list_weather, ignore_index=True)\n",
    "df_weather = df_weather.drop(['direction', 'angle', 'wind_speed'], axis=1)  # Hapus kolom tak diperlukan\n",
    "df_weather['timestamp'] = pd.to_datetime(df_weather['timestamp'])"
   ]
  },
  {
   "cell_type": "markdown",
   "id": "1d33d38f",
   "metadata": {},
   "source": [
    "## Sampling Data Cuaca Per Menit\n",
    "Data cuaca juga disampling agar memiliki satu titik data per menit dalam rentang 24 April–7 Mei 2025. Jika data tidak ada, akan diisi sebagai `NaN`."
   ]
  },
  {
   "cell_type": "code",
   "execution_count": 17,
   "id": "9b70acfb",
   "metadata": {},
   "outputs": [],
   "source": [
    "start_date = '2025-04-24'\n",
    "end_date = '2025-05-07'\n",
    "\n",
    "# Filter tanggal\n",
    "filtered_weather = df_weather[(df_weather['timestamp'] >= start_date) & (df_weather['timestamp'] <= end_date)].copy()\n",
    "\n",
    "# Lengkapi waktu setiap menit\n",
    "full_range = pd.date_range(start=start_date + ' 00:00:00', end=end_date + ' 23:59:00', freq='min')\n",
    "full_weather_df = pd.DataFrame({'timestamp': full_range})\n",
    "\n",
    "weather_sampled = pd.merge(full_weather_df, filtered_weather, on='timestamp', how='left')"
   ]
  },
  {
   "cell_type": "markdown",
   "id": "4fab52b9",
   "metadata": {},
   "source": [
    "## Menyimpan Data Cuaca yang Telah Disampling\n",
    "Data cuaca yang sudah terisi lengkap per menit disimpan di `dataset/data-clean/cuaca_per_menit.csv`."
   ]
  },
  {
   "cell_type": "code",
   "execution_count": 18,
   "id": "6ec4a16e",
   "metadata": {},
   "outputs": [
    {
     "name": "stdout",
     "output_type": "stream",
     "text": [
      "Cuaca per menit disimpan di: dataset/data-clean/cuaca_per_menit.csv\n"
     ]
    }
   ],
   "source": [
    "output_weather_path = 'dataset/data-clean/cuaca_per_menit.csv'\n",
    "weather_sampled.to_csv(output_weather_path, index=False)\n",
    "print(f\"Cuaca per menit disimpan di: {output_weather_path}\")"
   ]
  },
  {
   "cell_type": "markdown",
   "id": "59714382",
   "metadata": {},
   "source": [
    "## Menggabungkan Data CO2 dan Cuaca\n",
    "Setelah kedua data sudah disampling per menit, kini saatnya menggabungkannya berdasarkan waktu (`timestamp`). Kita pastikan tidak ada duplikasi timestamp, dan semua nilai sudah rapi."
   ]
  },
  {
   "cell_type": "code",
   "execution_count": 19,
   "id": "03eda0bd",
   "metadata": {},
   "outputs": [],
   "source": [
    "# Load ulang data yang telah disampling\n",
    "co2_df = pd.read_csv('dataset/data-clean/co2_per_minute.csv')\n",
    "cuaca_df = pd.read_csv('dataset/data-clean/cuaca_per_menit.csv')\n",
    "\n",
    "# Konversi waktu agar bisa digabung\n",
    "co2_df['minute'] = pd.to_datetime(co2_df['minute'])\n",
    "cuaca_df['timestamp'] = pd.to_datetime(cuaca_df['timestamp'])\n",
    "\n",
    "# Gabungkan berdasarkan waktu\n",
    "merged_df = pd.merge(co2_df, cuaca_df, left_on='minute', right_on='timestamp', how='left')\n",
    "\n",
    "# Finalisasi\n",
    "merged_df.drop(columns=['timestamp'], inplace=True)\n",
    "merged_df.rename(columns={'minute': 'timestamp'}, inplace=True)"
   ]
  },
  {
   "cell_type": "markdown",
   "id": "e54c9291",
   "metadata": {},
   "source": [
    "## Menyimpan Data Gabungan\n",
    "File akhir yang berisi gabungan CO2 dan cuaca per menit disimpan ke dalam `dataset/data-clean/data_output_collecting.csv` dan siap digunakan untuk tahap selanjutnya seperti EDA atau modeling."
   ]
  },
  {
   "cell_type": "code",
   "execution_count": 20,
   "id": "c1c49abd",
   "metadata": {},
   "outputs": [
    {
     "name": "stdout",
     "output_type": "stream",
     "text": [
      "Data gabungan berhasil disimpan di: dataset/data-clean/data_output_collecting.csv\n"
     ]
    }
   ],
   "source": [
    "output_merged_path = 'dataset/data-clean/data_output_collecting.csv'\n",
    "merged_df.to_csv(output_merged_path, index=False)\n",
    "print(f\"Data gabungan berhasil disimpan di: {output_merged_path}\")"
   ]
  }
 ],
 "metadata": {
  "kernelspec": {
   "display_name": "Python 3",
   "language": "python",
   "name": "python3"
  },
  "language_info": {
   "codemirror_mode": {
    "name": "ipython",
    "version": 3
   },
   "file_extension": ".py",
   "mimetype": "text/x-python",
   "name": "python",
   "nbconvert_exporter": "python",
   "pygments_lexer": "ipython3",
   "version": "3.10.9"
  }
 },
 "nbformat": 4,
 "nbformat_minor": 5
}
